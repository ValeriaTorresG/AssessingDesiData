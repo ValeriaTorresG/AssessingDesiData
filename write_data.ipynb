{
 "cells": [
  {
   "cell_type": "code",
   "execution_count": null,
   "metadata": {},
   "outputs": [],
   "source": [
    "from collections import defaultdict\n",
    "import numpy as np\n",
    "import pandas as pd\n",
    "from pathlib import Path\n",
    "import os\n",
    "import time as t\n",
    "\n",
    "import desispec\n",
    "from desispec.spectra import Spectra\n",
    "from desitarget.targets import desi_mask\n",
    "from desispec.io import read_spectra\n",
    "from astropy.io import fits\n",
    "import h5py\n",
    "\n",
    "from scipy.stats import linregress\n",
    "import matplotlib.pyplot as plt\n",
    "import matplotlib\n",
    "matplotlib.rcParams['figure.dpi'] = 360\n",
    "matplotlib.rcParams['text.usetex'] = True\n",
    "os.environ['PATH'] = '/Library/TeX/texbin:' + os.environ['PATH']\n",
    "plt.style.use('dark_background')\n",
    "\n",
    "import logging\n",
    "# logging.getLogger('desispec').setLevel(logging.WARNING)\n",
    "\n",
    "# !rclone mount onedrive: ~/onedrive --vfs-cache-mode writes"
   ]
  },
  {
   "cell_type": "code",
   "execution_count": 2,
   "metadata": {},
   "outputs": [],
   "source": [
    "path = Path('./data')\n",
    "path.mkdir(parents=True, exist_ok=True)"
   ]
  },
  {
   "cell_type": "markdown",
   "metadata": {},
   "source": [
    "### Object oriented?"
   ]
  },
  {
   "cell_type": "code",
   "execution_count": 8,
   "metadata": {},
   "outputs": [],
   "source": [
    "class Target:\n",
    "    def __init__(self, night:int, tileid:int, spectra:Spectra):\n",
    "        self.night = night\n",
    "        self.tileid = tileid\n",
    "        self.spectra = spectra\n",
    "        self.petal = spectra.fibermap['PETAL_LOC'][0]\n",
    "        self.id = spectra.fibermap['TARGETID'][0]\n",
    "\n",
    "    def get_flux(self):\n",
    "        return self.spectra.flux\n",
    "\n",
    "    def get_wave(self):\n",
    "        return self.spectra.wave\n",
    "\n",
    "    def set_spectra(self, spectra):\n",
    "        self.spectra = spectra\n",
    "\n",
    "\n",
    "class Dataset:\n",
    "    def __init__(self, release:str, survey:str):\n",
    "        self.release = release\n",
    "        self.survey = survey\n",
    "        self.targets = defaultdict(dict)\n",
    "\n",
    "    def get_target(self, targetid:int):\n",
    "        return self.targets[targetid]\n",
    "\n",
    "    def add_target(self, target:Target):\n",
    "        self.targets[target.id] = target\n",
    "\n",
    "    def remove_target(self, target:Target):\n",
    "        del self.targets[target.id]"
   ]
  },
  {
   "cell_type": "code",
   "execution_count": 9,
   "metadata": {},
   "outputs": [
    {
     "name": "stdout",
     "output_type": "stream",
     "text": [
      "INFO:spectra.py:391:read_spectra: iotime 0.161 sec to read coadd-0-10256-thru20211110.fits at 2025-02-23T17:11:27.554927\n"
     ]
    },
    {
     "data": {
      "text/plain": [
       "39627539206898128"
      ]
     },
     "execution_count": 9,
     "metadata": {},
     "output_type": "execute_result"
    }
   ],
   "source": [
    "data_path = '/Users/valeriatorresgomez/onedrive/tiny_dr1/spectro/redux/iron/tiles/cumulative/10256/20211110/coadd-0-10256-thru20211110.fits'\n",
    "spectra = desispec.io.read_spectra(data_path)\n",
    "\n",
    "mask = np.logical_and(spectra.fibermap['COADD_FIBERSTATUS']==0, spectra.fibermap['DESI_TARGET']!=0)\n",
    "index = np.where(mask)[0]\n",
    "\n",
    "tgt = np.random.choice(index)\n",
    "coadd_spec = spectra[tgt]\n",
    "spectra.fibermap['TARGETID'][0]"
   ]
  },
  {
   "cell_type": "code",
   "execution_count": 10,
   "metadata": {},
   "outputs": [
    {
     "data": {
      "text/plain": [
       "((1, 2751), (2326,))"
      ]
     },
     "execution_count": 10,
     "metadata": {},
     "output_type": "execute_result"
    }
   ],
   "source": [
    "coadd_tgts = spectra.target_ids().data\n",
    "\n",
    "row = (coadd_tgts == coadd_tgts[0])\n",
    "coadd_spec = spectra[row]\n",
    "\n",
    "coadd_spec.flux['b'].shape, coadd_spec.wave['r'].shape"
   ]
  },
  {
   "cell_type": "markdown",
   "metadata": {},
   "source": [
    "### Write data in csv"
   ]
  },
  {
   "cell_type": "code",
   "execution_count": 11,
   "metadata": {},
   "outputs": [],
   "source": [
    "def create_csv_dataset(data_path, tiles_ids, nights, output_csv_flux, output_csv_wave):\n",
    "    rows_flux, rows_wave = [], []\n",
    "\n",
    "    for tile, night in zip(tiles_ids, nights):\n",
    "        folder = os.path.join(data_path, str(tile), str(night))\n",
    "\n",
    "        if not os.path.isdir(folder):\n",
    "            print(f'Foldes {folder} does not exist\\n')\n",
    "            continue\n",
    "        petal_files = [f for f in os.listdir(folder) if f.startswith('coadd-')]\n",
    "\n",
    "        if not petal_files:\n",
    "            print(f'No COADD file in {folder}\\n')\n",
    "            continue\n",
    "\n",
    "        for petal in petal_files:\n",
    "            file_path = os.path.join(folder, petal)\n",
    "            try:\n",
    "                sp = desispec.io.read_spectra(file_path)\n",
    "            except Exception as e:\n",
    "                print(f'Exception reading {file_path}: {e}\\n')\n",
    "                continue\n",
    "            fibermap = sp.fibermap.to_pandas()\n",
    "            mask = (fibermap['COADD_FIBERSTATUS'] == 0) & (fibermap['DESI_TARGET'] != 0)\n",
    "            valid_indices = np.where(mask)[0]\n",
    "            if valid_indices.size == 0:\n",
    "                continue\n",
    "\n",
    "            flux_b, flux_r, flux_z = sp.flux['b'], sp.flux['r'], sp.flux['z']\n",
    "            flux_brz = [np.concatenate([b, r, z]) for b, r, z in zip(flux_b, flux_r, flux_z)]\n",
    "            for pos in valid_indices:\n",
    "                target_info = fibermap.iloc[pos]\n",
    "                rows_flux.append({'TARGETID': target_info.get('TARGETID', None),\n",
    "                                  'TILEID': target_info.get('TILEID', tile),\n",
    "                                  'PETAL_LOC': target_info.get('PETAL_LOC', None),\n",
    "                                  'FLUX_B': flux_b[pos], 'FLUX_R': flux_r[pos],\n",
    "                                  'FLUX_Z': flux_z[pos], 'FLUX_BRZ': flux_brz[pos]})\n",
    "\n",
    "            wave_b, wave_r, wave_z = sp.wave['b'], sp.wave['r'], sp.wave['z']\n",
    "            wave_brz = np.concatenate([wave_b, wave_r, wave_z])\n",
    "            rows_wave.append({'TILEID': tile, 'NIGHT': night,\n",
    "                              'PETAL_FILE': petal, 'WAVE_B': wave_b,\n",
    "                              'WAVE_R': wave_r, 'WAVE_Z': wave_z,\n",
    "                              'WAVE_BRZ': wave_brz})\n",
    "\n",
    "    df_flux, df_wave = pd.DataFrame(rows_flux), pd.DataFrame(rows_wave)\n",
    "    df_flux.to_csv(output_csv_flux, index=False); df_wave.to_csv(output_csv_wave, index=False)\n",
    "    print(f'Flux data saved in {output_csv_flux}'); print(f'Wave data saved in {output_csv_wave}')\n",
    "    return df_flux, df_wave"
   ]
  },
  {
   "cell_type": "code",
   "execution_count": null,
   "metadata": {},
   "outputs": [],
   "source": [
    "data_path = '/Users/valeriatorresgomez/onedrive/tiny_dr1/spectro/redux/iron/tiles/cumulative'\n",
    "tiles_ids = os.listdir(data_path)\n",
    "nights = [os.listdir(os.path.join(data_path, tiles_ids[i]))[0] for i in range(len(tiles_ids))]\n",
    "\n",
    "output_csv_flux, output_csv_wave = './data/flux_data.csv', './data/wave_data.csv'\n",
    "df_flux, df_wave = create_csv_dataset(data_path, tiles_ids, nights, output_csv_flux, output_csv_wave)"
   ]
  },
  {
   "cell_type": "markdown",
   "metadata": {},
   "source": [
    "### Write data in hdf5 (better than csv for big numbers and arrays)"
   ]
  },
  {
   "cell_type": "code",
   "execution_count": 68,
   "metadata": {},
   "outputs": [],
   "source": [
    "def expand_array_column(df, col, prefix):\n",
    "    arrs = df[col].to_list()\n",
    "    try:\n",
    "        arr_stacked = np.vstack(arrs)\n",
    "    except Exception as e:\n",
    "        print(f\"Could not stack column {col}: {e}\")\n",
    "        return df\n",
    "    n = arr_stacked.shape[1]\n",
    "    new_cols = {f'{prefix}_{i}': arr_stacked[:, i] for i in range(n)}\n",
    "    new_df = pd.DataFrame(new_cols, index=df.index)\n",
    "    df = df.drop(columns=[col])\n",
    "    df = pd.concat([df, new_df], axis=1)\n",
    "    return df"
   ]
  },
  {
   "cell_type": "code",
   "execution_count": 69,
   "metadata": {},
   "outputs": [],
   "source": [
    "def create_hdf5_dataset(data_path, tiles_ids, nights, output_hdf5_flux, output_hdf5_wave):\n",
    "    rows_flux, rows_wave = [], []\n",
    "    for tile, night in zip(tiles_ids, nights):\n",
    "        folder = os.path.join(data_path, str(tile), str(night))\n",
    "\n",
    "        if not os.path.isdir(folder):\n",
    "            print(f'Folder {folder} does not exist')\n",
    "            continue\n",
    "\n",
    "        petal_files = [f for f in os.listdir(folder) if f.startswith('coadd-')][:1]\n",
    "        if not petal_files:\n",
    "            print(f'No COADD file in {folder}')\n",
    "            continue\n",
    "\n",
    "        for petal in petal_files:\n",
    "            file_path = os.path.join(folder, petal)\n",
    "            try:\n",
    "                sp = desispec.io.read_spectra(file_path)\n",
    "            except Exception as e:\n",
    "                print(f'Exception reading {file_path}: {e}')\n",
    "                continue\n",
    "\n",
    "            fibermap = sp.fibermap.to_pandas()\n",
    "            mask = (fibermap['COADD_FIBERSTATUS'] == 0) & (fibermap['DESI_TARGET'] != 0)\n",
    "            valid_indices = np.where(mask)[0]\n",
    "            if valid_indices.size == 0:\n",
    "                continue\n",
    "\n",
    "            flux_b, flux_r, flux_z = sp.flux['b'], sp.flux['r'], sp.flux['z']\n",
    "            flux_brz = [np.concatenate([b, r, z]) for b, r, z in zip(flux_b, flux_r, flux_z)]\n",
    "            for pos in valid_indices:\n",
    "                target_info = fibermap.iloc[pos]\n",
    "                rows_flux.append({'TARGETID': target_info.get('TARGETID', None),\n",
    "                                  'TILEID': target_info.get('TILEID', tile),\n",
    "                                  'PETAL_LOC': target_info.get('PETAL_LOC', None),\n",
    "                                  'FLUX_B': flux_b[pos],'FLUX_R': flux_r[pos],\n",
    "                                  'FLUX_Z': flux_z[pos],'FLUX_BRZ': flux_brz[pos]})\n",
    "                rows_wave.append({'TARGETID': target_info.get('TARGETID', None),\n",
    "                                  'TILEID': tile,'NIGHT': night,\n",
    "                                  'PETAL_FILE': petal,'WAVE_B': sp.wave['b'][pos],\n",
    "                                  'WAVE_R': sp.wave['r'][pos],'WAVE_Z': sp.wave['z'][pos],\n",
    "                                  'WAVE_BRZ': np.concatenate([np.atleast_1d(sp.wave['b'][pos]),\n",
    "                                                            np.atleast_1d(sp.wave['r'][pos]),\n",
    "                                                            np.atleast_1d(sp.wave['z'][pos])])})\n",
    "    df_flux = pd.DataFrame(rows_flux)\n",
    "    df_wave = pd.DataFrame(rows_wave)\n",
    "    for col, prefix in [('FLUX_B', 'FLUX_B'),\n",
    "                        ('FLUX_R', 'FLUX_R'),\n",
    "                        ('FLUX_Z', 'FLUX_Z'),\n",
    "                        ('FLUX_BRZ', 'FLUX_BRZ')]:\n",
    "        df_flux = expand_array_column(df_flux, col, prefix)\n",
    "\n",
    "    for col, prefix in [('WAVE_B', 'WAVE_B'),\n",
    "                        ('WAVE_R', 'WAVE_R'),\n",
    "                        ('WAVE_Z', 'WAVE_Z'),\n",
    "                        ('WAVE_BRZ', 'WAVE_BRZ')]:\n",
    "        df_wave = expand_array_column(df_wave, col, prefix)\n",
    "\n",
    "    df_flux.to_hdf(output_hdf5_flux, key='df_flux', mode='w')\n",
    "    print(f'Flux data saved in {output_hdf5_flux}')\n",
    "    df_wave.to_hdf(output_hdf5_wave, key='df_wave', mode='w')\n",
    "    print(f'Wave data saved in {output_hdf5_wave}')\n",
    "    return df_flux, df_wave"
   ]
  },
  {
   "cell_type": "code",
   "execution_count": null,
   "metadata": {},
   "outputs": [],
   "source": [
    "data_path = '/Users/valeriatorresgomez/onedrive/tiny_dr1/spectro/redux/iron/tiles/cumulative'\n",
    "tiles_ids = os.listdir(data_path)\n",
    "nights = [os.listdir(os.path.join(data_path, tiles_ids[i]))[0] for i in range(len(tiles_ids))]\n",
    "\n",
    "output_hdf5_flux, output_hdf5_wave = './data/flux_data.h5', './data/wave_data.h5'\n",
    "df_flux, df_wave = create_hdf5_dataset(data_path, tiles_ids[:1], nights[:1], output_hdf5_flux, output_hdf5_wave)"
   ]
  },
  {
   "cell_type": "markdown",
   "metadata": {},
   "source": [
    "### More efficient"
   ]
  },
  {
   "cell_type": "code",
   "execution_count": 6,
   "metadata": {},
   "outputs": [],
   "source": [
    "data_path = '/Users/valeriatorresgomez/onedrive/tiny_dr1/spectro/redux/iron/tiles/cumulative'\n",
    "tiles_ids = os.listdir(data_path)\n",
    "nights = [os.listdir(os.path.join(data_path, tiles_ids[i]))[0] for i in range(len(tiles_ids))]"
   ]
  },
  {
   "cell_type": "code",
   "execution_count": 3,
   "metadata": {},
   "outputs": [
    {
     "data": {
      "text/plain": [
       "((500,), (500,))"
      ]
     },
     "execution_count": 3,
     "metadata": {},
     "output_type": "execute_result"
    }
   ],
   "source": [
    "def get_bitvals():\n",
    "    categories = np.array(list(desi_mask.names()))\n",
    "    bitvals = np.array([desi_mask[name] for name in categories])\n",
    "    return categories, bitvals\n",
    "\n",
    "def classify_targets(ids):\n",
    "    categories, masks = get_bitvals()\n",
    "    bool_matrix = (ids[:, None] & masks[None, :]) != 0\n",
    "    types = [' '.join(categories[row]) for row in bool_matrix]\n",
    "    return np.array(types)\n",
    "\n",
    "f_file = fits.open(f'/Users/valeriatorresgomez/onedrive/tiny_dr1/spectro/redux/iron/tiles/cumulative/10256/20211110/coadd-0-10256-thru20211110.fits')['FIBERMAP'].data\n",
    "ids = f_file['DESI_TARGET']\n",
    "types = classify_targets(ids)\n",
    "\n",
    "ids.shape, types.shape"
   ]
  },
  {
   "cell_type": "code",
   "execution_count": 7,
   "metadata": {},
   "outputs": [
    {
     "name": "stdout",
     "output_type": "stream",
     "text": [
      "INFO:spectra.py:391:read_spectra: iotime 0.267 sec to read coadd-0-10256-thru20211110.fits at 2025-02-23T17:06:57.793186\n",
      "INFO:spectra.py:391:read_spectra: iotime 47.770 sec to read coadd-1-10256-thru20211110.fits at 2025-02-23T17:07:47.015320\n",
      "INFO:spectra.py:391:read_spectra: iotime 4.718 sec to read coadd-0-2436-thru20211031.fits at 2025-02-23T17:07:53.875409\n",
      "INFO:spectra.py:391:read_spectra: iotime 44.377 sec to read coadd-1-2436-thru20211031.fits at 2025-02-23T17:08:39.591253\n",
      "INFO:spectra.py:391:read_spectra: iotime 45.020 sec to read coadd-0-5568-thru20211130.fits at 2025-02-23T17:09:26.089971\n",
      "INFO:spectra.py:391:read_spectra: iotime 111.014 sec to read coadd-1-5568-thru20211130.fits at 2025-02-23T17:11:18.964245\n"
     ]
    }
   ],
   "source": [
    "data_path = '/Users/valeriatorresgomez/onedrive/tiny_dr1/spectro/redux/iron/tiles/cumulative'\n",
    "tiles_id = os.listdir(data_path)\n",
    "nights = [os.listdir(os.path.join(data_path, tiles_id[i]))[0] for i in range(len(tiles_id))]\n",
    "\n",
    "with h5py.File(\"./data/sample.h5\", \"w\") as f:\n",
    "    for i, night in enumerate(nights):\n",
    "        tile_dir = os.path.join(data_path, tiles_id[i], night)\n",
    "        tiles = [fname for fname in os.listdir(tile_dir) if fname.startswith('coadd-')]\n",
    "\n",
    "        night_group = f.create_group(night)\n",
    "        tile_group = night_group.create_group(tiles_id[i])\n",
    "\n",
    "        for j, petal in enumerate(tiles[:2]):\n",
    "\n",
    "            petal_group = tile_group.create_group(petal.split('-')[1])\n",
    "            petal_path = os.path.join(data_path, tiles_id[i], night, petal)\n",
    "\n",
    "            coadd_obj = desispec.io.read_spectra(petal_path)\n",
    "            fits_file = fits.open(petal_path)['FIBERMAP'].data\n",
    "\n",
    "            mask = np.logical_and(fits_file['COADD_FIBERSTATUS'] == 0, fits_file['DESI_TARGET'] != 0)\n",
    "            coadd_spec, fits_filtered = coadd_obj[mask], fits_file[mask]\n",
    "\n",
    "            target_ids = fits_filtered['TARGETID']\n",
    "            petal_group.create_dataset(\"target_id\", data=target_ids, compression=\"gzip\")\n",
    "            types = classify_targets(target_ids)\n",
    "\n",
    "            str_dt = h5py.string_dtype(encoding='utf-8')\n",
    "            types_array = np.array(types, dtype=str_dt)\n",
    "            petal_group.create_dataset(\"target_type\", data=types_array, dtype=str_dt, compression=\"gzip\")\n",
    "\n",
    "            fluxes, waves = coadd_spec.flux, coadd_spec.wave\n",
    "            flux_group, wave_group = petal_group.create_group('flux'), petal_group.create_group('wave')\n",
    "\n",
    "            for band in ['b', 'r', 'z']:\n",
    "                flux_group.create_dataset(band, data=fluxes[band], compression='gzip')\n",
    "                wave_group.create_dataset(band, data=waves[band], compression='gzip')\n",
    "\n",
    "            wave_brz = np.concatenate([coadd_spec.wave['b'], coadd_spec.wave['r'], coadd_spec.wave['z']])\n",
    "            flux_brz = np.concatenate([coadd_spec.flux['b'], coadd_spec.flux['r'], coadd_spec.flux['z']], axis=1)\n",
    "            flux_group.create_dataset('brz', data=flux_brz, compression='gzip')\n",
    "            wave_group.create_dataset('brz', data=wave_brz, compression='gzip')"
   ]
  },
  {
   "cell_type": "code",
   "execution_count": 19,
   "metadata": {},
   "outputs": [
    {
     "name": "stdout",
     "output_type": "stream",
     "text": [
      "groups: ['flux', 'target_id', 'target_type', 'wave']\n",
      "target_id: 39627539206898128\n",
      "\n",
      "b: (453, 2751)\n",
      "r: (453, 2326)\n",
      "z: (453, 2881)\n",
      "brz: (453, 7958)\n",
      "\n",
      "b: (2751,)\n",
      "r: (2326,)\n",
      "z: (2881,)\n",
      "brz: (7958,)\n"
     ]
    }
   ],
   "source": [
    "with h5py.File(\"sample.h5\", \"r\") as f:\n",
    "    # print(f.keys())\n",
    "    # print(f['20211110'].keys())\n",
    "    # print(f['20211110']['10256'].keys())\n",
    "    petal = f['20211110']['10256']['0']\n",
    "\n",
    "    print(f'groups: {list(petal.keys())}')\n",
    "    target_ids = petal['target_id'][:]\n",
    "\n",
    "    flux_b = petal['flux']['b'][:]\n",
    "    print(f'target_id: {target_ids[0]}\\n')\n",
    "    print(f\"b: {f['20211110']['10256']['0']['flux']['b'][:].shape}\")\n",
    "    print(f\"r: {f['20211110']['10256']['0']['flux']['r'][:].shape}\")\n",
    "    print(f\"z: {f['20211110']['10256']['0']['flux']['z'][:].shape}\")\n",
    "    print(f\"brz: {f['20211110']['10256']['0']['flux']['brz'][:].shape}\\n\")\n",
    "\n",
    "    print(f\"b: {f['20211110']['10256']['0']['wave']['b'][:].shape}\")\n",
    "    print(f\"r: {f['20211110']['10256']['0']['wave']['r'][:].shape}\")\n",
    "    print(f\"z: {f['20211110']['10256']['0']['wave']['z'][:].shape}\")\n",
    "    print(f\"brz: {f['20211110']['10256']['0']['wave']['brz'][:].shape}\")"
   ]
  },
  {
   "cell_type": "markdown",
   "metadata": {},
   "source": [
    "### Time complex"
   ]
  },
  {
   "cell_type": "code",
   "execution_count": 168,
   "metadata": {},
   "outputs": [
    {
     "data": {
      "application/vnd.microsoft.datawrangler.viewer.v0+json": {
       "columns": [
        {
         "name": "index",
         "rawType": "int64",
         "type": "integer"
        },
        {
         "name": "tile",
         "rawType": "int64",
         "type": "integer"
        },
        {
         "name": "night",
         "rawType": "int64",
         "type": "integer"
        },
        {
         "name": "petal",
         "rawType": "int64",
         "type": "integer"
        },
        {
         "name": "n_targets",
         "rawType": "int64",
         "type": "integer"
        },
        {
         "name": "time",
         "rawType": "float64",
         "type": "float"
        }
       ],
       "conversionMethod": "pd.DataFrame",
       "ref": "4ec17fe7-86e2-4ec1-bc6a-b4a9da1a155a",
       "rows": [
        [
         "24",
         "5568",
         "20211130",
         "5",
         "423",
         "47.38776779174805"
        ],
        [
         "25",
         "5568",
         "20211130",
         "6",
         "436",
         "48.64711618423462"
        ],
        [
         "26",
         "5568",
         "20211130",
         "7",
         "380",
         "54.34383201599121"
        ],
        [
         "27",
         "5568",
         "20211130",
         "8",
         "430",
         "47.91513705253601"
        ],
        [
         "28",
         "5568",
         "20211130",
         "9",
         "442",
         "44.91803002357483"
        ]
       ],
       "shape": {
        "columns": 5,
        "rows": 5
       }
      },
      "text/html": [
       "<div>\n",
       "<style scoped>\n",
       "    .dataframe tbody tr th:only-of-type {\n",
       "        vertical-align: middle;\n",
       "    }\n",
       "\n",
       "    .dataframe tbody tr th {\n",
       "        vertical-align: top;\n",
       "    }\n",
       "\n",
       "    .dataframe thead th {\n",
       "        text-align: right;\n",
       "    }\n",
       "</style>\n",
       "<table border=\"1\" class=\"dataframe\">\n",
       "  <thead>\n",
       "    <tr style=\"text-align: right;\">\n",
       "      <th></th>\n",
       "      <th>tile</th>\n",
       "      <th>night</th>\n",
       "      <th>petal</th>\n",
       "      <th>n_targets</th>\n",
       "      <th>time</th>\n",
       "    </tr>\n",
       "  </thead>\n",
       "  <tbody>\n",
       "    <tr>\n",
       "      <th>24</th>\n",
       "      <td>5568</td>\n",
       "      <td>20211130</td>\n",
       "      <td>5</td>\n",
       "      <td>423</td>\n",
       "      <td>47.387768</td>\n",
       "    </tr>\n",
       "    <tr>\n",
       "      <th>25</th>\n",
       "      <td>5568</td>\n",
       "      <td>20211130</td>\n",
       "      <td>6</td>\n",
       "      <td>436</td>\n",
       "      <td>48.647116</td>\n",
       "    </tr>\n",
       "    <tr>\n",
       "      <th>26</th>\n",
       "      <td>5568</td>\n",
       "      <td>20211130</td>\n",
       "      <td>7</td>\n",
       "      <td>380</td>\n",
       "      <td>54.343832</td>\n",
       "    </tr>\n",
       "    <tr>\n",
       "      <th>27</th>\n",
       "      <td>5568</td>\n",
       "      <td>20211130</td>\n",
       "      <td>8</td>\n",
       "      <td>430</td>\n",
       "      <td>47.915137</td>\n",
       "    </tr>\n",
       "    <tr>\n",
       "      <th>28</th>\n",
       "      <td>5568</td>\n",
       "      <td>20211130</td>\n",
       "      <td>9</td>\n",
       "      <td>442</td>\n",
       "      <td>44.918030</td>\n",
       "    </tr>\n",
       "  </tbody>\n",
       "</table>\n",
       "</div>"
      ],
      "text/plain": [
       "    tile     night  petal  n_targets       time\n",
       "24  5568  20211130      5        423  47.387768\n",
       "25  5568  20211130      6        436  48.647116\n",
       "26  5568  20211130      7        380  54.343832\n",
       "27  5568  20211130      8        430  47.915137\n",
       "28  5568  20211130      9        442  44.918030"
      ]
     },
     "execution_count": 168,
     "metadata": {},
     "output_type": "execute_result"
    }
   ],
   "source": [
    "df = pd.read_csv('./scripts/logs/log.csv')\n",
    "df.tail()"
   ]
  },
  {
   "cell_type": "code",
   "execution_count": 169,
   "metadata": {},
   "outputs": [
    {
     "data": {
      "text/plain": [
       "0.7507760142457897"
      ]
     },
     "execution_count": 169,
     "metadata": {},
     "output_type": "execute_result"
    }
   ],
   "source": [
    "df['time'].mean()/60"
   ]
  },
  {
   "cell_type": "code",
   "execution_count": 170,
   "metadata": {},
   "outputs": [
    {
     "data": {
      "application/vnd.microsoft.datawrangler.viewer.v0+json": {
       "columns": [
        {
         "name": "index",
         "rawType": "int64",
         "type": "integer"
        },
        {
         "name": "tile",
         "rawType": "int64",
         "type": "integer"
        },
        {
         "name": "night",
         "rawType": "int64",
         "type": "integer"
        },
        {
         "name": "petal",
         "rawType": "int64",
         "type": "integer"
        },
        {
         "name": "n_targets",
         "rawType": "int64",
         "type": "integer"
        },
        {
         "name": "time",
         "rawType": "float64",
         "type": "float"
        }
       ],
       "conversionMethod": "pd.DataFrame",
       "ref": "07210c09-7c71-4dbe-bb33-b07ee145381a",
       "rows": [
        [
         "20",
         "5568",
         "20211130",
         "1",
         "408",
         "1.6121459007263184"
        ],
        [
         "0",
         "10256",
         "20211110",
         "0",
         "453",
         "1.6973600387573242"
        ],
        [
         "10",
         "2436",
         "20211031",
         "0",
         "453",
         "44.60294222831726"
        ],
        [
         "28",
         "5568",
         "20211130",
         "9",
         "442",
         "44.91803002357483"
        ],
        [
         "11",
         "2436",
         "20211031",
         "1",
         "402",
         "45.16967797279358"
        ]
       ],
       "shape": {
        "columns": 5,
        "rows": 5
       }
      },
      "text/html": [
       "<div>\n",
       "<style scoped>\n",
       "    .dataframe tbody tr th:only-of-type {\n",
       "        vertical-align: middle;\n",
       "    }\n",
       "\n",
       "    .dataframe tbody tr th {\n",
       "        vertical-align: top;\n",
       "    }\n",
       "\n",
       "    .dataframe thead th {\n",
       "        text-align: right;\n",
       "    }\n",
       "</style>\n",
       "<table border=\"1\" class=\"dataframe\">\n",
       "  <thead>\n",
       "    <tr style=\"text-align: right;\">\n",
       "      <th></th>\n",
       "      <th>tile</th>\n",
       "      <th>night</th>\n",
       "      <th>petal</th>\n",
       "      <th>n_targets</th>\n",
       "      <th>time</th>\n",
       "    </tr>\n",
       "  </thead>\n",
       "  <tbody>\n",
       "    <tr>\n",
       "      <th>20</th>\n",
       "      <td>5568</td>\n",
       "      <td>20211130</td>\n",
       "      <td>1</td>\n",
       "      <td>408</td>\n",
       "      <td>1.612146</td>\n",
       "    </tr>\n",
       "    <tr>\n",
       "      <th>0</th>\n",
       "      <td>10256</td>\n",
       "      <td>20211110</td>\n",
       "      <td>0</td>\n",
       "      <td>453</td>\n",
       "      <td>1.697360</td>\n",
       "    </tr>\n",
       "    <tr>\n",
       "      <th>10</th>\n",
       "      <td>2436</td>\n",
       "      <td>20211031</td>\n",
       "      <td>0</td>\n",
       "      <td>453</td>\n",
       "      <td>44.602942</td>\n",
       "    </tr>\n",
       "    <tr>\n",
       "      <th>28</th>\n",
       "      <td>5568</td>\n",
       "      <td>20211130</td>\n",
       "      <td>9</td>\n",
       "      <td>442</td>\n",
       "      <td>44.918030</td>\n",
       "    </tr>\n",
       "    <tr>\n",
       "      <th>11</th>\n",
       "      <td>2436</td>\n",
       "      <td>20211031</td>\n",
       "      <td>1</td>\n",
       "      <td>402</td>\n",
       "      <td>45.169678</td>\n",
       "    </tr>\n",
       "  </tbody>\n",
       "</table>\n",
       "</div>"
      ],
      "text/plain": [
       "     tile     night  petal  n_targets       time\n",
       "20   5568  20211130      1        408   1.612146\n",
       "0   10256  20211110      0        453   1.697360\n",
       "10   2436  20211031      0        453  44.602942\n",
       "28   5568  20211130      9        442  44.918030\n",
       "11   2436  20211031      1        402  45.169678"
      ]
     },
     "execution_count": 170,
     "metadata": {},
     "output_type": "execute_result"
    }
   ],
   "source": [
    "df.sort_values('time', ascending=True).head()"
   ]
  },
  {
   "cell_type": "code",
   "execution_count": 171,
   "metadata": {},
   "outputs": [
    {
     "data": {
      "image/png": "[encoded data removed]",
      "text/plain": [
       "<Figure size 2304x1728 with 1 Axes>"
      ]
     },
     "metadata": {},
     "output_type": "display_data"
    }
   ],
   "source": [
    "x = np.argsort(df['n_targets'])\n",
    "m, b, _, _, _ = linregress(df['n_targets'], df['time'])\n",
    "\n",
    "plt.scatter(df['n_targets'][x], df['time'][x], ls='-', marker='*')\n",
    "plt.plot(df['n_targets'][x], df['n_targets'][x]*m+b, c='orange')\n",
    "\n",
    "plt.xlabel(r'$n_{targets}$', fontsize=12); plt.ylabel('$t$ $[s]$', fontsize=12)\n",
    "plt.title('Writing time vs number of targets', y=1.02)\n",
    "# plt.yscale('log')\n",
    "plt.ylim(0,60)\n",
    "plt.show()"
   ]
  }
 ],
 "metadata": {
  "kernelspec": {
   "display_name": "Python 3",
   "language": "python",
   "name": "python3"
  },
  "language_info": {
   "codemirror_mode": {
    "name": "ipython",
    "version": 3
   },
   "file_extension": ".py",
   "mimetype": "text/x-python",
   "name": "python",
   "nbconvert_exporter": "python",
   "pygments_lexer": "ipython3",
   "version": "3.12.2"
  }
 },
 "nbformat": 4,
 "nbformat_minor": 2
}
