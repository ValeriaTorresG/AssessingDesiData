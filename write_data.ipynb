{
 "cells": [
  {
   "cell_type": "code",
   "execution_count": null,
   "metadata": {},
   "outputs": [],
   "source": [
    "from collections import defaultdict\n",
    "import numpy as np\n",
    "import pandas as pd\n",
    "from pathlib import Path\n",
    "import os\n",
    "\n",
    "import desispec\n",
    "from desispec.spectra import Spectra\n",
    "from desispec.io import read_spectra\n",
    "from astropy.io import fits"
   ]
  },
  {
   "cell_type": "code",
   "execution_count": null,
   "metadata": {},
   "outputs": [],
   "source": [
    "import logging\n",
    "logging.getLogger('desispec').setLevel(logging.WARNING)"
   ]
  },
  {
   "cell_type": "markdown",
   "metadata": {},
   "source": [
    "### Object oriented?"
   ]
  },
  {
   "cell_type": "code",
   "execution_count": 51,
   "metadata": {},
   "outputs": [],
   "source": [
    "class Target:\n",
    "    def __init__(self, night:int, tileid:int, spectra:Spectra):\n",
    "        self.night = night\n",
    "        self.tileid = tileid\n",
    "        self.spectra = spectra\n",
    "        self.petal = spectra.fibermap['PETAL_LOC'][0]\n",
    "        self.id = spectra.fibermap['TARGETID'][0]\n",
    "\n",
    "    def get_flux(self):\n",
    "        return self.spectra.flux\n",
    "\n",
    "    def get_wave(self):\n",
    "        return self.spectra.wave\n",
    "\n",
    "    def set_spectra(self, spectra):\n",
    "        self.spectra = spectra\n",
    "\n",
    "\n",
    "class Dataset:\n",
    "    def __init__(self, release:str, survey:str):\n",
    "        self.release = release\n",
    "        self.survey = survey\n",
    "        self.targets = defaultdict(dict)\n",
    "\n",
    "    def get_target(self, targetid:int):\n",
    "        return self.targets[targetid]\n",
    "\n",
    "    def add_target(self, target:Target):\n",
    "        self.targets[target.id] = target\n",
    "\n",
    "    def remove_target(self, target:Target):\n",
    "        del self.targets[target.id]"
   ]
  },
  {
   "cell_type": "code",
   "execution_count": 52,
   "metadata": {},
   "outputs": [
    {
     "name": "stdout",
     "output_type": "stream",
     "text": [
      "INFO:spectra.py:391:read_spectra: iotime 34.974 sec to read coadd-0-10256-thru20211110.fits at 2025-02-21T12:40:53.699373\n"
     ]
    },
    {
     "data": {
      "text/plain": [
       "39627539206898128"
      ]
     },
     "execution_count": 52,
     "metadata": {},
     "output_type": "execute_result"
    }
   ],
   "source": [
    "data_path = '/Users/valeriatorresgomez/onedrive/tiny_dr1/spectro/redux/iron/tiles/cumulative/10256/20211110/coadd-0-10256-thru20211110.fits'\n",
    "spectra = desispec.io.read_spectra(data_path)\n",
    "\n",
    "mask = np.logical_and(spectra.fibermap['COADD_FIBERSTATUS']==0, spectra.fibermap['DESI_TARGET']!=0)\n",
    "index = np.where(mask)[0]\n",
    "\n",
    "tgt = np.random.choice(index)\n",
    "coadd_spec = spectra[tgt]\n",
    "spectra.fibermap['TARGETID'][0]"
   ]
  },
  {
   "cell_type": "markdown",
   "metadata": {},
   "source": [
    "### Write data in csv"
   ]
  },
  {
   "cell_type": "code",
   "execution_count": 53,
   "metadata": {},
   "outputs": [],
   "source": [
    "def create_csv_dataset(data_path, tiles_ids, nights, output_csv_flux, output_csv_wave):\n",
    "    rows_flux, rows_wave = [], []\n",
    "\n",
    "    for tile, night in zip(tiles_ids, nights):\n",
    "        folder = os.path.join(data_path, str(tile), str(night))\n",
    "\n",
    "        if not os.path.isdir(folder):\n",
    "            print(f'Foldes {folder} does not exist\\n')\n",
    "            continue\n",
    "        petal_files = [f for f in os.listdir(folder) if f.startswith('coadd-')]\n",
    "\n",
    "        if not petal_files:\n",
    "            print(f'No COADD file in {folder}\\n')\n",
    "            continue\n",
    "\n",
    "        for petal in petal_files:\n",
    "            file_path = os.path.join(folder, petal)\n",
    "            try:\n",
    "                sp = desispec.io.read_spectra(file_path)\n",
    "            except Exception as e:\n",
    "                print(f'Exception reading {file_path}: {e}\\n')\n",
    "                continue\n",
    "            fibermap = sp.fibermap.to_pandas()\n",
    "            mask = (fibermap['COADD_FIBERSTATUS'] == 0) & (fibermap['DESI_TARGET'] != 0)\n",
    "            valid_indices = np.where(mask)[0]\n",
    "            if valid_indices.size == 0:\n",
    "                continue\n",
    "\n",
    "            flux_b = sp.flux['b']\n",
    "            flux_r = sp.flux['r']\n",
    "            flux_z = sp.flux['z']\n",
    "            flux_brz = [np.concatenate([b, r, z]) for b, r, z in zip(flux_b, flux_r, flux_z)]\n",
    "            for pos in valid_indices:\n",
    "                target_info = fibermap.iloc[pos]\n",
    "                rows_flux.append({'TARGETID': target_info.get('TARGETID', None),\n",
    "                                  'TILEID': target_info.get('TILEID', tile),\n",
    "                                  'PETAL_LOC': target_info.get('PETAL_LOC', None),\n",
    "                                  'FLUX_B': flux_b[pos], 'FLUX_R': flux_r[pos],\n",
    "                                  'FLUX_Z': flux_z[pos], 'FLUX_BRZ': flux_brz[pos]})\n",
    "\n",
    "            wave_b, wave_r, wave_z = sp.wave['b'], sp.wave['r'], sp.wave['z']\n",
    "            wave_brz = np.concatenate([wave_b, wave_r, wave_z])\n",
    "            rows_wave.append({'TILEID': tile, 'NIGHT': night,\n",
    "                              'PETAL_FILE': petal, 'WAVE_B': wave_b,\n",
    "                              'WAVE_R': wave_r, 'WAVE_Z': wave_z,\n",
    "                              'WAVE_BRZ': wave_brz})\n",
    "\n",
    "    df_flux, df_wave = pd.DataFrame(rows_flux), pd.DataFrame(rows_wave)\n",
    "    df_flux.to_csv(output_csv_flux, index=False); df_wave.to_csv(output_csv_wave, index=False)\n",
    "    print(f\"Flux data saved in {output_csv_flux}\")\n",
    "    print(f\"Wave data saved in {output_csv_wave}\")\n",
    "    return df_flux, df_wave"
   ]
  },
  {
   "cell_type": "code",
   "execution_count": 56,
   "metadata": {},
   "outputs": [],
   "source": [
    "path = Path('./data')\n",
    "path.mkdir(parents=True, exist_ok=True)"
   ]
  },
  {
   "cell_type": "code",
   "execution_count": null,
   "metadata": {},
   "outputs": [],
   "source": [
    "# !rclone mount onedrive: ~/onedrive --vfs-cache-mode writes"
   ]
  },
  {
   "cell_type": "code",
   "execution_count": 58,
   "metadata": {},
   "outputs": [
    {
     "name": "stdout",
     "output_type": "stream",
     "text": [
      "INFO:spectra.py:391:read_spectra: iotime 35.933 sec to read coadd-0-10256-thru20211110.fits at 2025-02-21T12:44:02.629668\n",
      "INFO:spectra.py:391:read_spectra: iotime 35.303 sec to read coadd-1-10256-thru20211110.fits at 2025-02-21T12:44:38.107437\n",
      "INFO:spectra.py:391:read_spectra: iotime 39.943 sec to read coadd-2-10256-thru20211110.fits at 2025-02-21T12:45:18.869463\n",
      "INFO:spectra.py:391:read_spectra: iotime 44.953 sec to read coadd-3-10256-thru20211110.fits at 2025-02-21T12:46:06.951517\n",
      "INFO:spectra.py:391:read_spectra: iotime 37.965 sec to read coadd-4-10256-thru20211110.fits at 2025-02-21T12:46:45.087156\n",
      "INFO:spectra.py:391:read_spectra: iotime 35.145 sec to read coadd-5-10256-thru20211110.fits at 2025-02-21T12:47:20.824999\n",
      "INFO:spectra.py:391:read_spectra: iotime 37.853 sec to read coadd-6-10256-thru20211110.fits at 2025-02-21T12:47:59.286612\n",
      "INFO:spectra.py:391:read_spectra: iotime 32.317 sec to read coadd-7-10256-thru20211110.fits at 2025-02-21T12:48:31.714780\n",
      "INFO:spectra.py:391:read_spectra: iotime 32.446 sec to read coadd-8-10256-thru20211110.fits at 2025-02-21T12:49:04.847895\n",
      "INFO:spectra.py:391:read_spectra: iotime 44.677 sec to read coadd-9-10256-thru20211110.fits at 2025-02-21T12:49:49.615926\n",
      "INFO:spectra.py:391:read_spectra: iotime 43.390 sec to read coadd-0-2436-thru20211031.fits at 2025-02-21T12:50:34.728596\n",
      "INFO:spectra.py:391:read_spectra: iotime 34.883 sec to read coadd-1-2436-thru20211031.fits at 2025-02-21T12:51:11.845750\n",
      "INFO:spectra.py:391:read_spectra: iotime 31.188 sec to read coadd-2-2436-thru20211031.fits at 2025-02-21T12:51:43.133711\n",
      "INFO:spectra.py:391:read_spectra: iotime 40.351 sec to read coadd-3-2436-thru20211031.fits at 2025-02-21T12:52:24.249400\n",
      "INFO:spectra.py:391:read_spectra: iotime 35.157 sec to read coadd-4-2436-thru20211031.fits at 2025-02-21T12:53:00.050417\n",
      "INFO:spectra.py:391:read_spectra: iotime 31.088 sec to read coadd-5-2436-thru20211031.fits at 2025-02-21T12:53:31.241669\n",
      "INFO:spectra.py:391:read_spectra: iotime 28.048 sec to read coadd-6-2436-thru20211031.fits at 2025-02-21T12:54:00.022751\n",
      "INFO:spectra.py:391:read_spectra: iotime 42.714 sec to read coadd-7-2436-thru20211031.fits at 2025-02-21T12:54:42.894942\n",
      "INFO:spectra.py:391:read_spectra: iotime 46.876 sec to read coadd-9-2436-thru20211031.fits at 2025-02-21T12:55:30.326136\n",
      "INFO:spectra.py:391:read_spectra: iotime 28.755 sec to read coadd-0-5568-thru20211130.fits at 2025-02-21T12:56:00.760761\n",
      "INFO:spectra.py:391:read_spectra: iotime 32.618 sec to read coadd-1-5568-thru20211130.fits at 2025-02-21T12:56:34.814531\n",
      "INFO:spectra.py:391:read_spectra: iotime 54.191 sec to read coadd-2-5568-thru20211130.fits at 2025-02-21T12:57:29.871619\n",
      "INFO:spectra.py:391:read_spectra: iotime 32.584 sec to read coadd-3-5568-thru20211130.fits at 2025-02-21T12:58:03.153858\n",
      "INFO:spectra.py:391:read_spectra: iotime 36.968 sec to read coadd-4-5568-thru20211130.fits at 2025-02-21T12:58:40.234075\n",
      "INFO:spectra.py:391:read_spectra: iotime 32.398 sec to read coadd-5-5568-thru20211130.fits at 2025-02-21T12:59:13.314003\n",
      "INFO:spectra.py:391:read_spectra: iotime 34.432 sec to read coadd-6-5568-thru20211130.fits at 2025-02-21T12:59:47.885072\n",
      "INFO:spectra.py:391:read_spectra: iotime 32.134 sec to read coadd-7-5568-thru20211130.fits at 2025-02-21T13:00:20.639328\n",
      "INFO:spectra.py:391:read_spectra: iotime 42.851 sec to read coadd-8-5568-thru20211130.fits at 2025-02-21T13:01:04.227065\n",
      "INFO:spectra.py:391:read_spectra: iotime 52.930 sec to read coadd-9-5568-thru20211130.fits at 2025-02-21T13:01:59.407565\n",
      "Flux data saved in ./data/flux_data.csv\n",
      "Wave data saved in ./data/wave_data.csv\n"
     ]
    }
   ],
   "source": [
    "data_path = '/Users/valeriatorresgomez/onedrive/tiny_dr1/spectro/redux/iron/tiles/cumulative'\n",
    "tiles_ids = os.listdir(data_path)\n",
    "nights = [os.listdir(os.path.join(data_path, tiles_ids[i]))[0] for i in range(len(tiles_ids))]\n",
    "\n",
    "output_csv_flux, output_csv_wave = './data/flux_data.csv', './data/wave_data.csv'\n",
    "df_flux, df_wave = create_csv_dataset(data_path, tiles_ids, nights, output_csv_flux, output_csv_wave)"
   ]
  }
 ],
 "metadata": {
  "kernelspec": {
   "display_name": "Python 3",
   "language": "python",
   "name": "python3"
  },
  "language_info": {
   "codemirror_mode": {
    "name": "ipython",
    "version": 3
   },
   "file_extension": ".py",
   "mimetype": "text/x-python",
   "name": "python",
   "nbconvert_exporter": "python",
   "pygments_lexer": "ipython3",
   "version": "3.12.2"
  }
 },
 "nbformat": 4,
 "nbformat_minor": 2
}
